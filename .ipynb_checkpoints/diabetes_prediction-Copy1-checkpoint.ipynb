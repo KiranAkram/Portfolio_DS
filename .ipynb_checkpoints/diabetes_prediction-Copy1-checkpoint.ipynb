{
 "cells": [
  {
   "cell_type": "code",
   "execution_count": 206,
   "id": "23442ba7-b769-49ff-9716-d8b8fb9b9af4",
   "metadata": {},
   "outputs": [],
   "source": [
    "#imports\n",
    "import pandas as pd\n",
    "import numpy as np\n",
    "import matplotlib.pyplot as plt\n",
    "import seaborn as sns\n",
    "\n",
    "import xgboost as xgb\n",
    "\n",
    "from sklearn.base import TransformerMixin, BaseEstimator\n",
    "from sklearn.pipeline import Pipeline\n",
    "from sklearn.compose import ColumnTransformer\n",
    "\n",
    "from hyperopt import fmin, tpe, hp, Trials, STATUS_OK\n",
    "\n",
    "from sklearn.preprocessing import OrdinalEncoder\n",
    "from sklearn.model_selection import train_test_split, cross_val_score,\\\n",
    "                                    cross_validate,cross_val_score, StratifiedKFold\n",
    "\n",
    "from sklearn.metrics import make_scorer, matthews_corrcoef, confusion_matrix, f1_score, log_loss, roc_auc_score,\\\n",
    "                             accuracy_score, roc_curve, fbeta_score, ConfusionMatrixDisplay,\\\n",
    "                            precision_score, classification_report, balanced_accuracy_score\n",
    "\n",
    "import warnings"
   ]
  },
  {
   "cell_type": "code",
   "execution_count": 3,
   "id": "e95755ab-a120-4505-a48c-90a3c99fcf50",
   "metadata": {},
   "outputs": [],
   "source": [
    "%load_ext autoreload\n",
    "%autoreload 2"
   ]
  },
  {
   "cell_type": "code",
   "execution_count": null,
   "id": "85b00a76-bf20-4c8e-a9d1-760fb3a920cd",
   "metadata": {},
   "outputs": [],
   "source": [
    "#helper func to calculate f2 score\n",
    "from sklearn.model_selection import \n",
    "\n",
    "def f2_func(y_true, y_pred):\n",
    "    f2_score = fbeta_score(y_true, y_pred, beta=2)\n",
    "    return f2_score\n",
    "f2_scorer = make_scorer(f2_func, greater_is_better=True)"
   ]
  },
  {
   "cell_type": "markdown",
   "id": "6d992835-7452-4963-a34c-25b51b9ca037",
   "metadata": {},
   "source": [
    "### data upload"
   ]
  },
  {
   "cell_type": "code",
   "execution_count": 4,
   "id": "fd84ecaa-2140-4049-8583-71be0f81ef70",
   "metadata": {},
   "outputs": [],
   "source": [
    "df = pd.read_csv(\"diabetes_prediction_dataset.csv\")"
   ]
  },
  {
   "cell_type": "code",
   "execution_count": 5,
   "id": "139781f4-3ea4-4740-9640-6f37e6328b67",
   "metadata": {},
   "outputs": [
    {
     "data": {
      "text/plain": [
       "(100000, 9)"
      ]
     },
     "execution_count": 5,
     "metadata": {},
     "output_type": "execute_result"
    }
   ],
   "source": [
    "df.shape"
   ]
  },
  {
   "cell_type": "code",
   "execution_count": 6,
   "id": "4f0a9770-61f7-4f3c-addc-e156945c8687",
   "metadata": {},
   "outputs": [
    {
     "data": {
      "text/html": [
       "<div>\n",
       "<style scoped>\n",
       "    .dataframe tbody tr th:only-of-type {\n",
       "        vertical-align: middle;\n",
       "    }\n",
       "\n",
       "    .dataframe tbody tr th {\n",
       "        vertical-align: top;\n",
       "    }\n",
       "\n",
       "    .dataframe thead th {\n",
       "        text-align: right;\n",
       "    }\n",
       "</style>\n",
       "<table border=\"1\" class=\"dataframe\">\n",
       "  <thead>\n",
       "    <tr style=\"text-align: right;\">\n",
       "      <th></th>\n",
       "      <th>gender</th>\n",
       "      <th>age</th>\n",
       "      <th>hypertension</th>\n",
       "      <th>heart_disease</th>\n",
       "      <th>smoking_history</th>\n",
       "      <th>bmi</th>\n",
       "      <th>HbA1c_level</th>\n",
       "      <th>blood_glucose_level</th>\n",
       "      <th>diabetes</th>\n",
       "    </tr>\n",
       "  </thead>\n",
       "  <tbody>\n",
       "    <tr>\n",
       "      <th>0</th>\n",
       "      <td>Female</td>\n",
       "      <td>80.0</td>\n",
       "      <td>0</td>\n",
       "      <td>1</td>\n",
       "      <td>never</td>\n",
       "      <td>25.19</td>\n",
       "      <td>6.6</td>\n",
       "      <td>140</td>\n",
       "      <td>0</td>\n",
       "    </tr>\n",
       "    <tr>\n",
       "      <th>1</th>\n",
       "      <td>Female</td>\n",
       "      <td>54.0</td>\n",
       "      <td>0</td>\n",
       "      <td>0</td>\n",
       "      <td>No Info</td>\n",
       "      <td>27.32</td>\n",
       "      <td>6.6</td>\n",
       "      <td>80</td>\n",
       "      <td>0</td>\n",
       "    </tr>\n",
       "    <tr>\n",
       "      <th>2</th>\n",
       "      <td>Male</td>\n",
       "      <td>28.0</td>\n",
       "      <td>0</td>\n",
       "      <td>0</td>\n",
       "      <td>never</td>\n",
       "      <td>27.32</td>\n",
       "      <td>5.7</td>\n",
       "      <td>158</td>\n",
       "      <td>0</td>\n",
       "    </tr>\n",
       "  </tbody>\n",
       "</table>\n",
       "</div>"
      ],
      "text/plain": [
       "   gender   age  hypertension  heart_disease smoking_history    bmi  \\\n",
       "0  Female  80.0             0              1           never  25.19   \n",
       "1  Female  54.0             0              0         No Info  27.32   \n",
       "2    Male  28.0             0              0           never  27.32   \n",
       "\n",
       "   HbA1c_level  blood_glucose_level  diabetes  \n",
       "0          6.6                  140         0  \n",
       "1          6.6                   80         0  \n",
       "2          5.7                  158         0  "
      ]
     },
     "execution_count": 6,
     "metadata": {},
     "output_type": "execute_result"
    }
   ],
   "source": [
    "df.head(3)"
   ]
  },
  {
   "cell_type": "markdown",
   "id": "9c91a267-c89f-4a69-a6f4-21efc15e14c9",
   "metadata": {},
   "source": [
    "## EDA"
   ]
  },
  {
   "cell_type": "code",
   "execution_count": 7,
   "id": "a2e0d060-f25b-41dd-ac28-0e3d8489fbeb",
   "metadata": {},
   "outputs": [
    {
     "data": {
      "text/html": [
       "<div>\n",
       "<style scoped>\n",
       "    .dataframe tbody tr th:only-of-type {\n",
       "        vertical-align: middle;\n",
       "    }\n",
       "\n",
       "    .dataframe tbody tr th {\n",
       "        vertical-align: top;\n",
       "    }\n",
       "\n",
       "    .dataframe thead th {\n",
       "        text-align: right;\n",
       "    }\n",
       "</style>\n",
       "<table border=\"1\" class=\"dataframe\">\n",
       "  <thead>\n",
       "    <tr style=\"text-align: right;\">\n",
       "      <th></th>\n",
       "      <th>gender</th>\n",
       "      <th>age</th>\n",
       "      <th>hypertension</th>\n",
       "      <th>heart_disease</th>\n",
       "      <th>smoking_history</th>\n",
       "      <th>bmi</th>\n",
       "      <th>HbA1c_level</th>\n",
       "      <th>blood_glucose_level</th>\n",
       "      <th>diabetes</th>\n",
       "    </tr>\n",
       "  </thead>\n",
       "  <tbody>\n",
       "    <tr>\n",
       "      <th>count</th>\n",
       "      <td>100000</td>\n",
       "      <td>100000.000000</td>\n",
       "      <td>100000.00000</td>\n",
       "      <td>100000.000000</td>\n",
       "      <td>100000</td>\n",
       "      <td>100000.000000</td>\n",
       "      <td>100000.000000</td>\n",
       "      <td>100000.000000</td>\n",
       "      <td>100000.000000</td>\n",
       "    </tr>\n",
       "    <tr>\n",
       "      <th>unique</th>\n",
       "      <td>3</td>\n",
       "      <td>NaN</td>\n",
       "      <td>NaN</td>\n",
       "      <td>NaN</td>\n",
       "      <td>6</td>\n",
       "      <td>NaN</td>\n",
       "      <td>NaN</td>\n",
       "      <td>NaN</td>\n",
       "      <td>NaN</td>\n",
       "    </tr>\n",
       "    <tr>\n",
       "      <th>top</th>\n",
       "      <td>Female</td>\n",
       "      <td>NaN</td>\n",
       "      <td>NaN</td>\n",
       "      <td>NaN</td>\n",
       "      <td>No Info</td>\n",
       "      <td>NaN</td>\n",
       "      <td>NaN</td>\n",
       "      <td>NaN</td>\n",
       "      <td>NaN</td>\n",
       "    </tr>\n",
       "    <tr>\n",
       "      <th>freq</th>\n",
       "      <td>58552</td>\n",
       "      <td>NaN</td>\n",
       "      <td>NaN</td>\n",
       "      <td>NaN</td>\n",
       "      <td>35816</td>\n",
       "      <td>NaN</td>\n",
       "      <td>NaN</td>\n",
       "      <td>NaN</td>\n",
       "      <td>NaN</td>\n",
       "    </tr>\n",
       "    <tr>\n",
       "      <th>mean</th>\n",
       "      <td>NaN</td>\n",
       "      <td>41.885856</td>\n",
       "      <td>0.07485</td>\n",
       "      <td>0.039420</td>\n",
       "      <td>NaN</td>\n",
       "      <td>27.320767</td>\n",
       "      <td>5.527507</td>\n",
       "      <td>138.058060</td>\n",
       "      <td>0.085000</td>\n",
       "    </tr>\n",
       "    <tr>\n",
       "      <th>std</th>\n",
       "      <td>NaN</td>\n",
       "      <td>22.516840</td>\n",
       "      <td>0.26315</td>\n",
       "      <td>0.194593</td>\n",
       "      <td>NaN</td>\n",
       "      <td>6.636783</td>\n",
       "      <td>1.070672</td>\n",
       "      <td>40.708136</td>\n",
       "      <td>0.278883</td>\n",
       "    </tr>\n",
       "    <tr>\n",
       "      <th>min</th>\n",
       "      <td>NaN</td>\n",
       "      <td>0.080000</td>\n",
       "      <td>0.00000</td>\n",
       "      <td>0.000000</td>\n",
       "      <td>NaN</td>\n",
       "      <td>10.010000</td>\n",
       "      <td>3.500000</td>\n",
       "      <td>80.000000</td>\n",
       "      <td>0.000000</td>\n",
       "    </tr>\n",
       "    <tr>\n",
       "      <th>25%</th>\n",
       "      <td>NaN</td>\n",
       "      <td>24.000000</td>\n",
       "      <td>0.00000</td>\n",
       "      <td>0.000000</td>\n",
       "      <td>NaN</td>\n",
       "      <td>23.630000</td>\n",
       "      <td>4.800000</td>\n",
       "      <td>100.000000</td>\n",
       "      <td>0.000000</td>\n",
       "    </tr>\n",
       "    <tr>\n",
       "      <th>50%</th>\n",
       "      <td>NaN</td>\n",
       "      <td>43.000000</td>\n",
       "      <td>0.00000</td>\n",
       "      <td>0.000000</td>\n",
       "      <td>NaN</td>\n",
       "      <td>27.320000</td>\n",
       "      <td>5.800000</td>\n",
       "      <td>140.000000</td>\n",
       "      <td>0.000000</td>\n",
       "    </tr>\n",
       "    <tr>\n",
       "      <th>75%</th>\n",
       "      <td>NaN</td>\n",
       "      <td>60.000000</td>\n",
       "      <td>0.00000</td>\n",
       "      <td>0.000000</td>\n",
       "      <td>NaN</td>\n",
       "      <td>29.580000</td>\n",
       "      <td>6.200000</td>\n",
       "      <td>159.000000</td>\n",
       "      <td>0.000000</td>\n",
       "    </tr>\n",
       "    <tr>\n",
       "      <th>max</th>\n",
       "      <td>NaN</td>\n",
       "      <td>80.000000</td>\n",
       "      <td>1.00000</td>\n",
       "      <td>1.000000</td>\n",
       "      <td>NaN</td>\n",
       "      <td>95.690000</td>\n",
       "      <td>9.000000</td>\n",
       "      <td>300.000000</td>\n",
       "      <td>1.000000</td>\n",
       "    </tr>\n",
       "  </tbody>\n",
       "</table>\n",
       "</div>"
      ],
      "text/plain": [
       "        gender            age  hypertension  heart_disease smoking_history  \\\n",
       "count   100000  100000.000000  100000.00000  100000.000000          100000   \n",
       "unique       3            NaN           NaN            NaN               6   \n",
       "top     Female            NaN           NaN            NaN         No Info   \n",
       "freq     58552            NaN           NaN            NaN           35816   \n",
       "mean       NaN      41.885856       0.07485       0.039420             NaN   \n",
       "std        NaN      22.516840       0.26315       0.194593             NaN   \n",
       "min        NaN       0.080000       0.00000       0.000000             NaN   \n",
       "25%        NaN      24.000000       0.00000       0.000000             NaN   \n",
       "50%        NaN      43.000000       0.00000       0.000000             NaN   \n",
       "75%        NaN      60.000000       0.00000       0.000000             NaN   \n",
       "max        NaN      80.000000       1.00000       1.000000             NaN   \n",
       "\n",
       "                  bmi    HbA1c_level  blood_glucose_level       diabetes  \n",
       "count   100000.000000  100000.000000        100000.000000  100000.000000  \n",
       "unique            NaN            NaN                  NaN            NaN  \n",
       "top               NaN            NaN                  NaN            NaN  \n",
       "freq              NaN            NaN                  NaN            NaN  \n",
       "mean        27.320767       5.527507           138.058060       0.085000  \n",
       "std          6.636783       1.070672            40.708136       0.278883  \n",
       "min         10.010000       3.500000            80.000000       0.000000  \n",
       "25%         23.630000       4.800000           100.000000       0.000000  \n",
       "50%         27.320000       5.800000           140.000000       0.000000  \n",
       "75%         29.580000       6.200000           159.000000       0.000000  \n",
       "max         95.690000       9.000000           300.000000       1.000000  "
      ]
     },
     "execution_count": 7,
     "metadata": {},
     "output_type": "execute_result"
    }
   ],
   "source": [
    "df.describe(include = 'all')"
   ]
  },
  {
   "cell_type": "code",
   "execution_count": 8,
   "id": "c3c084c4-f3b8-4ff9-a363-ef9d7d7c65f5",
   "metadata": {},
   "outputs": [
    {
     "data": {
      "text/plain": [
       "array(['Female', 'Male', 'Other'], dtype=object)"
      ]
     },
     "execution_count": 8,
     "metadata": {},
     "output_type": "execute_result"
    }
   ],
   "source": [
    "df.gender.unique()"
   ]
  },
  {
   "cell_type": "code",
   "execution_count": 9,
   "id": "b9b3a65f-18a6-4c9e-9036-821f741f43fb",
   "metadata": {},
   "outputs": [
    {
     "data": {
      "text/plain": [
       "array(['never', 'No Info', 'current', 'former', 'ever', 'not current'],\n",
       "      dtype=object)"
      ]
     },
     "execution_count": 9,
     "metadata": {},
     "output_type": "execute_result"
    }
   ],
   "source": [
    "df.smoking_history.unique()"
   ]
  },
  {
   "cell_type": "code",
   "execution_count": 10,
   "id": "8659b828-f6cb-4afe-a13f-cdc848c89bda",
   "metadata": {},
   "outputs": [
    {
     "data": {
      "text/plain": [
       "gender                 0\n",
       "age                    0\n",
       "hypertension           0\n",
       "heart_disease          0\n",
       "smoking_history        0\n",
       "bmi                    0\n",
       "HbA1c_level            0\n",
       "blood_glucose_level    0\n",
       "diabetes               0\n",
       "dtype: int64"
      ]
     },
     "execution_count": 10,
     "metadata": {},
     "output_type": "execute_result"
    }
   ],
   "source": [
    "df.isna().sum()"
   ]
  },
  {
   "cell_type": "markdown",
   "id": "802814ba-46d0-465d-852d-db5fa6b170df",
   "metadata": {},
   "source": [
    "## we will check distribution of the each feature"
   ]
  },
  {
   "cell_type": "code",
   "execution_count": 11,
   "id": "d8d943fd-57f5-449f-9392-49a6f36527a7",
   "metadata": {},
   "outputs": [
    {
     "data": {
      "text/plain": [
       "gender\n",
       "Female    0.58552\n",
       "Male      0.41430\n",
       "Other     0.00018\n",
       "Name: proportion, dtype: float64"
      ]
     },
     "execution_count": 11,
     "metadata": {},
     "output_type": "execute_result"
    }
   ],
   "source": [
    "df.gender.value_counts(normalize = True)"
   ]
  },
  {
   "cell_type": "code",
   "execution_count": 12,
   "id": "3ef62ac3-a05e-4b28-b5db-80e3b28a202d",
   "metadata": {},
   "outputs": [],
   "source": [
    "#since there are only 18 values out of 1M that represent Other categories so will drop those 18 values\n",
    "df = df.query(\"gender != 'Other'\").reset_index(drop=True)"
   ]
  },
  {
   "cell_type": "code",
   "execution_count": 13,
   "id": "25020703-4683-4ea8-bc82-600bd235b39d",
   "metadata": {},
   "outputs": [
    {
     "data": {
      "text/plain": [
       "smoking_history\n",
       "No Info        0.358164\n",
       "never          0.350983\n",
       "former         0.093537\n",
       "current        0.092877\n",
       "not current    0.064402\n",
       "ever           0.040037\n",
       "Name: proportion, dtype: float64"
      ]
     },
     "execution_count": 13,
     "metadata": {},
     "output_type": "execute_result"
    }
   ],
   "source": [
    "df.smoking_history.value_counts(normalize = True)"
   ]
  },
  {
   "cell_type": "code",
   "execution_count": 14,
   "id": "bdf425f6-52d4-4416-ac7f-c801907e5725",
   "metadata": {},
   "outputs": [
    {
     "data": {
      "text/plain": [
       "diabetes\n",
       "0    0.914985\n",
       "1    0.085015\n",
       "Name: proportion, dtype: float64"
      ]
     },
     "execution_count": 14,
     "metadata": {},
     "output_type": "execute_result"
    }
   ],
   "source": [
    "df.diabetes.value_counts(normalize = True)"
   ]
  },
  {
   "cell_type": "code",
   "execution_count": 15,
   "id": "566c13d5-e956-4d6a-8b67-39ce32f88200",
   "metadata": {},
   "outputs": [
    {
     "data": {
      "text/plain": [
       "<Axes: xlabel='diabetes'>"
      ]
     },
     "execution_count": 15,
     "metadata": {},
     "output_type": "execute_result"
    },
    {
     "data": {
      "image/png": "[encoded data removed]",
      "text/plain": [
       "<Figure size 640x480 with 1 Axes>"
      ]
     },
     "metadata": {},
     "output_type": "display_data"
    }
   ],
   "source": [
    "df['diabetes'].value_counts().plot(kind='bar')"
   ]
  },
  {
   "cell_type": "code",
   "execution_count": 16,
   "id": "2da97e02-c60c-4adf-af4f-40369778cfba",
   "metadata": {},
   "outputs": [
    {
     "name": "stdout",
     "output_type": "stream",
     "text": [
      "gender\n",
      "Female    58552\n",
      "Male      41430\n",
      "Name: count, dtype: int64\n"
     ]
    },
    {
     "data": {
      "text/plain": [
       "<Axes: xlabel='gender', ylabel='count'>"
      ]
     },
     "execution_count": 16,
     "metadata": {},
     "output_type": "execute_result"
    },
    {
     "data": {
      "image/png": "[encoded data removed]",
      "text/plain": [
       "<Figure size 640x480 with 1 Axes>"
      ]
     },
     "metadata": {},
     "output_type": "display_data"
    }
   ],
   "source": [
    "print(df['gender'].value_counts())\n",
    "sns.countplot(data = df, x = 'gender', hue = 'diabetes')"
   ]
  },
  {
   "cell_type": "code",
   "execution_count": 17,
   "id": "445776fc-27ba-47c5-ae77-b5e9e97cae40",
   "metadata": {},
   "outputs": [
    {
     "data": {
      "text/html": [
       "<div>\n",
       "<style scoped>\n",
       "    .dataframe tbody tr th:only-of-type {\n",
       "        vertical-align: middle;\n",
       "    }\n",
       "\n",
       "    .dataframe tbody tr th {\n",
       "        vertical-align: top;\n",
       "    }\n",
       "\n",
       "    .dataframe thead tr th {\n",
       "        text-align: left;\n",
       "    }\n",
       "\n",
       "    .dataframe thead tr:last-of-type th {\n",
       "        text-align: right;\n",
       "    }\n",
       "</style>\n",
       "<table border=\"1\" class=\"dataframe\">\n",
       "  <thead>\n",
       "    <tr>\n",
       "      <th></th>\n",
       "      <th colspan=\"2\" halign=\"left\">diabetes</th>\n",
       "    </tr>\n",
       "    <tr>\n",
       "      <th></th>\n",
       "      <th>mean</th>\n",
       "      <th>count</th>\n",
       "    </tr>\n",
       "    <tr>\n",
       "      <th>gender</th>\n",
       "      <th></th>\n",
       "      <th></th>\n",
       "    </tr>\n",
       "  </thead>\n",
       "  <tbody>\n",
       "    <tr>\n",
       "      <th>Female</th>\n",
       "      <td>0.076189</td>\n",
       "      <td>58552</td>\n",
       "    </tr>\n",
       "    <tr>\n",
       "      <th>Male</th>\n",
       "      <td>0.097490</td>\n",
       "      <td>41430</td>\n",
       "    </tr>\n",
       "  </tbody>\n",
       "</table>\n",
       "</div>"
      ],
      "text/plain": [
       "        diabetes       \n",
       "            mean  count\n",
       "gender                 \n",
       "Female  0.076189  58552\n",
       "Male    0.097490  41430"
      ]
     },
     "execution_count": 17,
     "metadata": {},
     "output_type": "execute_result"
    }
   ],
   "source": [
    "df[['gender','diabetes']].groupby(by='gender').agg(['mean','count'])"
   ]
  },
  {
   "cell_type": "code",
   "execution_count": 18,
   "id": "30b11893-df02-420a-8875-79dbf984ad3a",
   "metadata": {},
   "outputs": [
    {
     "data": {
      "text/html": [
       "<div>\n",
       "<style scoped>\n",
       "    .dataframe tbody tr th:only-of-type {\n",
       "        vertical-align: middle;\n",
       "    }\n",
       "\n",
       "    .dataframe tbody tr th {\n",
       "        vertical-align: top;\n",
       "    }\n",
       "\n",
       "    .dataframe thead tr th {\n",
       "        text-align: left;\n",
       "    }\n",
       "\n",
       "    .dataframe thead tr:last-of-type th {\n",
       "        text-align: right;\n",
       "    }\n",
       "</style>\n",
       "<table border=\"1\" class=\"dataframe\">\n",
       "  <thead>\n",
       "    <tr>\n",
       "      <th></th>\n",
       "      <th colspan=\"2\" halign=\"left\">diabetes</th>\n",
       "    </tr>\n",
       "    <tr>\n",
       "      <th></th>\n",
       "      <th>mean</th>\n",
       "      <th>count</th>\n",
       "    </tr>\n",
       "    <tr>\n",
       "      <th>hypertension</th>\n",
       "      <th></th>\n",
       "      <th></th>\n",
       "    </tr>\n",
       "  </thead>\n",
       "  <tbody>\n",
       "    <tr>\n",
       "      <th>0</th>\n",
       "      <td>0.069321</td>\n",
       "      <td>92497</td>\n",
       "    </tr>\n",
       "    <tr>\n",
       "      <th>1</th>\n",
       "      <td>0.278958</td>\n",
       "      <td>7485</td>\n",
       "    </tr>\n",
       "  </tbody>\n",
       "</table>\n",
       "</div>"
      ],
      "text/plain": [
       "              diabetes       \n",
       "                  mean  count\n",
       "hypertension                 \n",
       "0             0.069321  92497\n",
       "1             0.278958   7485"
      ]
     },
     "execution_count": 18,
     "metadata": {},
     "output_type": "execute_result"
    }
   ],
   "source": [
    "# Checking the diabetes mean and count for hypertension\n",
    "df[['hypertension','diabetes']].groupby(by='hypertension').agg(['mean','count'])"
   ]
  },
  {
   "cell_type": "code",
   "execution_count": 19,
   "id": "17df282d-f041-4075-ae21-ac9458946505",
   "metadata": {},
   "outputs": [
    {
     "data": {
      "text/plain": [
       "heart_disease\n",
       "0    96040\n",
       "1     3942\n",
       "Name: count, dtype: int64"
      ]
     },
     "execution_count": 19,
     "metadata": {},
     "output_type": "execute_result"
    }
   ],
   "source": [
    "df.heart_disease.value_counts()"
   ]
  },
  {
   "cell_type": "code",
   "execution_count": 20,
   "id": "c36bc6ef-122a-48df-ad37-ef8177f94ed6",
   "metadata": {},
   "outputs": [
    {
     "name": "stdout",
     "output_type": "stream",
     "text": [
      "heart_disease\n",
      "0    96040\n",
      "1     3942\n",
      "Name: count, dtype: int64\n"
     ]
    },
    {
     "data": {
      "text/plain": [
       "<Axes: xlabel='heart_disease', ylabel='count'>"
      ]
     },
     "execution_count": 20,
     "metadata": {},
     "output_type": "execute_result"
    },
    {
     "data": {
      "image/png": "[encoded data removed]",
      "text/plain": [
       "<Figure size 640x480 with 1 Axes>"
      ]
     },
     "metadata": {},
     "output_type": "display_data"
    }
   ],
   "source": [
    "print(df['heart_disease'].value_counts())\n",
    "sns.countplot(data = df, x = 'heart_disease', hue = 'diabetes')"
   ]
  },
  {
   "cell_type": "code",
   "execution_count": 21,
   "id": "6f0923ed-966f-4f7a-9bcf-7da818847071",
   "metadata": {},
   "outputs": [],
   "source": [
    "#function to help display features\n",
    "def plot_distribution(df, column_name):\n",
    "    # Plotting distribution\n",
    "    fig, ax = plt.subplots(figsize=(7, 4), nrows=1, ncols=1)\n",
    "    sns.histplot(data=df, x=column_name, hue='diabetes', kde=True, bins=20)  \n",
    "    plt.tight_layout()\n",
    "    plt.show()\n"
   ]
  },
  {
   "cell_type": "code",
   "execution_count": 22,
   "id": "57275668-1c01-4cce-bfd2-cc2ec6ba30a6",
   "metadata": {},
   "outputs": [
    {
     "data": {
      "image/png": "[encoded data removed]",
      "text/plain": [
       "<Figure size 700x400 with 1 Axes>"
      ]
     },
     "metadata": {},
     "output_type": "display_data"
    }
   ],
   "source": [
    "plot_distribution(df, 'age')"
   ]
  },
  {
   "cell_type": "code",
   "execution_count": 23,
   "id": "a73cb1f6-9e82-4b43-838a-2a2a6e5a627c",
   "metadata": {},
   "outputs": [
    {
     "data": {
      "image/png": "[encoded data removed]",
      "text/plain": [
       "<Figure size 700x400 with 1 Axes>"
      ]
     },
     "metadata": {},
     "output_type": "display_data"
    }
   ],
   "source": [
    "plot_distribution(df, 'bmi')"
   ]
  },
  {
   "cell_type": "code",
   "execution_count": 46,
   "id": "673aa9fb-edba-4ea4-8ff9-0786d2723ae9",
   "metadata": {},
   "outputs": [
    {
     "data": {
      "text/plain": [
       "Index(['gender', 'age', 'hypertension', 'heart_disease', 'smoking_history',\n",
       "       'bmi', 'HbA1c_level', 'blood_glucose_level', 'diabetes'],\n",
       "      dtype='object')"
      ]
     },
     "execution_count": 46,
     "metadata": {},
     "output_type": "execute_result"
    }
   ],
   "source": [
    "df.columns"
   ]
  },
  {
   "cell_type": "code",
   "execution_count": 24,
   "id": "e6d62a84-8c32-4be8-a981-44ae80d04e56",
   "metadata": {},
   "outputs": [
    {
     "data": {
      "image/png": "[encoded data removed]",
      "text/plain": [
       "<Figure size 700x400 with 1 Axes>"
      ]
     },
     "metadata": {},
     "output_type": "display_data"
    }
   ],
   "source": [
    "plot_distribution(df, 'blood_glucose_level')"
   ]
  },
  {
   "cell_type": "code",
   "execution_count": null,
   "id": "d62c11fc-3288-413f-92fe-903fa412d505",
   "metadata": {},
   "outputs": [],
   "source": []
  },
  {
   "cell_type": "code",
   "execution_count": 25,
   "id": "2b1b864b-4e5a-47a4-85aa-6c59d52bcbec",
   "metadata": {},
   "outputs": [
    {
     "data": {
      "image/png": "[encoded data removed]",
      "text/plain": [
       "<Figure size 700x400 with 1 Axes>"
      ]
     },
     "metadata": {},
     "output_type": "display_data"
    }
   ],
   "source": [
    "plot_distribution(df, 'HbA1c_level')"
   ]
  },
  {
   "cell_type": "code",
   "execution_count": null,
   "id": "15ac02d0-9f9e-4278-afbf-14a284bd0e4d",
   "metadata": {},
   "outputs": [],
   "source": []
  },
  {
   "cell_type": "markdown",
   "id": "c1f7f173-55fe-43e0-8dd8-a658003d385b",
   "metadata": {},
   "source": [
    "## Training"
   ]
  },
  {
   "cell_type": "code",
   "execution_count": 49,
   "id": "a502d711-4c4f-45e8-b7d4-7ed48d8212bb",
   "metadata": {},
   "outputs": [
    {
     "data": {
      "text/html": [
       "<div>\n",
       "<style scoped>\n",
       "    .dataframe tbody tr th:only-of-type {\n",
       "        vertical-align: middle;\n",
       "    }\n",
       "\n",
       "    .dataframe tbody tr th {\n",
       "        vertical-align: top;\n",
       "    }\n",
       "\n",
       "    .dataframe thead th {\n",
       "        text-align: right;\n",
       "    }\n",
       "</style>\n",
       "<table border=\"1\" class=\"dataframe\">\n",
       "  <thead>\n",
       "    <tr style=\"text-align: right;\">\n",
       "      <th></th>\n",
       "      <th>gender</th>\n",
       "      <th>age</th>\n",
       "      <th>hypertension</th>\n",
       "      <th>heart_disease</th>\n",
       "      <th>smoking_history</th>\n",
       "      <th>bmi</th>\n",
       "      <th>HbA1c_level</th>\n",
       "      <th>blood_glucose_level</th>\n",
       "      <th>diabetes</th>\n",
       "    </tr>\n",
       "  </thead>\n",
       "  <tbody>\n",
       "    <tr>\n",
       "      <th>0</th>\n",
       "      <td>Female</td>\n",
       "      <td>80.0</td>\n",
       "      <td>0</td>\n",
       "      <td>1</td>\n",
       "      <td>never</td>\n",
       "      <td>25.19</td>\n",
       "      <td>6.6</td>\n",
       "      <td>140</td>\n",
       "      <td>0</td>\n",
       "    </tr>\n",
       "    <tr>\n",
       "      <th>1</th>\n",
       "      <td>Female</td>\n",
       "      <td>54.0</td>\n",
       "      <td>0</td>\n",
       "      <td>0</td>\n",
       "      <td>No Info</td>\n",
       "      <td>27.32</td>\n",
       "      <td>6.6</td>\n",
       "      <td>80</td>\n",
       "      <td>0</td>\n",
       "    </tr>\n",
       "    <tr>\n",
       "      <th>2</th>\n",
       "      <td>Male</td>\n",
       "      <td>28.0</td>\n",
       "      <td>0</td>\n",
       "      <td>0</td>\n",
       "      <td>never</td>\n",
       "      <td>27.32</td>\n",
       "      <td>5.7</td>\n",
       "      <td>158</td>\n",
       "      <td>0</td>\n",
       "    </tr>\n",
       "    <tr>\n",
       "      <th>3</th>\n",
       "      <td>Female</td>\n",
       "      <td>36.0</td>\n",
       "      <td>0</td>\n",
       "      <td>0</td>\n",
       "      <td>current</td>\n",
       "      <td>23.45</td>\n",
       "      <td>5.0</td>\n",
       "      <td>155</td>\n",
       "      <td>0</td>\n",
       "    </tr>\n",
       "  </tbody>\n",
       "</table>\n",
       "</div>"
      ],
      "text/plain": [
       "   gender   age  hypertension  heart_disease smoking_history    bmi  \\\n",
       "0  Female  80.0             0              1           never  25.19   \n",
       "1  Female  54.0             0              0         No Info  27.32   \n",
       "2    Male  28.0             0              0           never  27.32   \n",
       "3  Female  36.0             0              0         current  23.45   \n",
       "\n",
       "   HbA1c_level  blood_glucose_level  diabetes  \n",
       "0          6.6                  140         0  \n",
       "1          6.6                   80         0  \n",
       "2          5.7                  158         0  \n",
       "3          5.0                  155         0  "
      ]
     },
     "execution_count": 49,
     "metadata": {},
     "output_type": "execute_result"
    }
   ],
   "source": [
    "df.head(4)"
   ]
  },
  {
   "cell_type": "code",
   "execution_count": 26,
   "id": "2b8138b8-6281-45de-b8b7-5466668b924d",
   "metadata": {},
   "outputs": [
    {
     "data": {
      "text/plain": [
       "Index(['gender', 'age', 'hypertension', 'heart_disease', 'smoking_history',\n",
       "       'bmi', 'HbA1c_level', 'blood_glucose_level', 'diabetes'],\n",
       "      dtype='object')"
      ]
     },
     "execution_count": 26,
     "metadata": {},
     "output_type": "execute_result"
    }
   ],
   "source": [
    "df.columns"
   ]
  },
  {
   "cell_type": "code",
   "execution_count": 28,
   "id": "64007a22-ae36-4378-b4f3-d7a88f178cd8",
   "metadata": {},
   "outputs": [],
   "source": [
    "# Categorical features\n",
    "cat_feats = ['gender','smoking_history']\n",
    "\n",
    "# Binary features\n",
    "bin_feats = ['hypertension','heart_disease']\n",
    "\n",
    "# Numerical features\n",
    "num_feats = df.drop(columns=cat_feats + bin_feats + ['diabetes']).columns.tolist()\n",
    "y = df['diabetes']"
   ]
  },
  {
   "cell_type": "code",
   "execution_count": null,
   "id": "bafe778c-f21a-476b-9a04-96de54031059",
   "metadata": {},
   "outputs": [],
   "source": []
  },
  {
   "cell_type": "code",
   "execution_count": 29,
   "id": "5e13527c-d4e5-4e73-bae1-321559b943fe",
   "metadata": {},
   "outputs": [],
   "source": [
    "preprocessor= ColumnTransformer(\n",
    "    [\n",
    "        ('num','passthrough',num_feats),\n",
    "        ('cat',OrdinalEncoder(),cat_feats),\n",
    "        ('bin','passthrough', bin_feats)\n",
    "    ],\n",
    "    remainder='drop',\n",
    "    verbose_feature_names_out=True\n",
    ")\n",
    "pipeline = Pipeline(steps=[\n",
    "    ('preprocessor', preprocessor)\n",
    "])"
   ]
  },
  {
   "cell_type": "code",
   "execution_count": 31,
   "id": "f52d0033-b8fd-4114-a3e2-bc675ddd3ff3",
   "metadata": {},
   "outputs": [],
   "source": [
    "# Fit and transform data using the pipeline\n",
    "transformed_data = pipeline.fit_transform(df)"
   ]
  },
  {
   "cell_type": "code",
   "execution_count": 32,
   "id": "2a7beed4-ba1d-404d-99be-9670f83b124b",
   "metadata": {},
   "outputs": [],
   "source": [
    "feature_names = preprocessor.get_feature_names_out()\n",
    "# Creating a DataFrame with the transformed data and feature names\n",
    "df_transformed = pd.DataFrame(transformed_data, columns=feature_names,)"
   ]
  },
  {
   "cell_type": "code",
   "execution_count": 33,
   "id": "126e28dc-5d9a-458e-8e03-0fde9d7840a3",
   "metadata": {},
   "outputs": [
    {
     "data": {
      "text/html": [
       "<div>\n",
       "<style scoped>\n",
       "    .dataframe tbody tr th:only-of-type {\n",
       "        vertical-align: middle;\n",
       "    }\n",
       "\n",
       "    .dataframe tbody tr th {\n",
       "        vertical-align: top;\n",
       "    }\n",
       "\n",
       "    .dataframe thead th {\n",
       "        text-align: right;\n",
       "    }\n",
       "</style>\n",
       "<table border=\"1\" class=\"dataframe\">\n",
       "  <thead>\n",
       "    <tr style=\"text-align: right;\">\n",
       "      <th></th>\n",
       "      <th>num__age</th>\n",
       "      <th>num__bmi</th>\n",
       "      <th>num__HbA1c_level</th>\n",
       "      <th>num__blood_glucose_level</th>\n",
       "      <th>cat__gender</th>\n",
       "      <th>cat__smoking_history</th>\n",
       "      <th>bin__hypertension</th>\n",
       "      <th>bin__heart_disease</th>\n",
       "    </tr>\n",
       "  </thead>\n",
       "  <tbody>\n",
       "    <tr>\n",
       "      <th>0</th>\n",
       "      <td>80.0</td>\n",
       "      <td>25.19</td>\n",
       "      <td>6.6</td>\n",
       "      <td>140.0</td>\n",
       "      <td>0.0</td>\n",
       "      <td>4.0</td>\n",
       "      <td>0.0</td>\n",
       "      <td>1.0</td>\n",
       "    </tr>\n",
       "    <tr>\n",
       "      <th>1</th>\n",
       "      <td>54.0</td>\n",
       "      <td>27.32</td>\n",
       "      <td>6.6</td>\n",
       "      <td>80.0</td>\n",
       "      <td>0.0</td>\n",
       "      <td>0.0</td>\n",
       "      <td>0.0</td>\n",
       "      <td>0.0</td>\n",
       "    </tr>\n",
       "    <tr>\n",
       "      <th>2</th>\n",
       "      <td>28.0</td>\n",
       "      <td>27.32</td>\n",
       "      <td>5.7</td>\n",
       "      <td>158.0</td>\n",
       "      <td>1.0</td>\n",
       "      <td>4.0</td>\n",
       "      <td>0.0</td>\n",
       "      <td>0.0</td>\n",
       "    </tr>\n",
       "    <tr>\n",
       "      <th>3</th>\n",
       "      <td>36.0</td>\n",
       "      <td>23.45</td>\n",
       "      <td>5.0</td>\n",
       "      <td>155.0</td>\n",
       "      <td>0.0</td>\n",
       "      <td>1.0</td>\n",
       "      <td>0.0</td>\n",
       "      <td>0.0</td>\n",
       "    </tr>\n",
       "    <tr>\n",
       "      <th>4</th>\n",
       "      <td>76.0</td>\n",
       "      <td>20.14</td>\n",
       "      <td>4.8</td>\n",
       "      <td>155.0</td>\n",
       "      <td>1.0</td>\n",
       "      <td>1.0</td>\n",
       "      <td>1.0</td>\n",
       "      <td>1.0</td>\n",
       "    </tr>\n",
       "  </tbody>\n",
       "</table>\n",
       "</div>"
      ],
      "text/plain": [
       "   num__age  num__bmi  num__HbA1c_level  num__blood_glucose_level  \\\n",
       "0      80.0     25.19               6.6                     140.0   \n",
       "1      54.0     27.32               6.6                      80.0   \n",
       "2      28.0     27.32               5.7                     158.0   \n",
       "3      36.0     23.45               5.0                     155.0   \n",
       "4      76.0     20.14               4.8                     155.0   \n",
       "\n",
       "   cat__gender  cat__smoking_history  bin__hypertension  bin__heart_disease  \n",
       "0          0.0                   4.0                0.0                 1.0  \n",
       "1          0.0                   0.0                0.0                 0.0  \n",
       "2          1.0                   4.0                0.0                 0.0  \n",
       "3          0.0                   1.0                0.0                 0.0  \n",
       "4          1.0                   1.0                1.0                 1.0  "
      ]
     },
     "execution_count": 33,
     "metadata": {},
     "output_type": "execute_result"
    }
   ],
   "source": [
    "df_transformed.head(5)"
   ]
  },
  {
   "cell_type": "code",
   "execution_count": null,
   "id": "24b3d3bf-8263-46ea-ada3-274ddb5e3cc9",
   "metadata": {},
   "outputs": [],
   "source": [
    "df_transformed.describe()"
   ]
  },
  {
   "cell_type": "code",
   "execution_count": 34,
   "id": "c443c08a-9539-49be-a9d3-adebe091097c",
   "metadata": {},
   "outputs": [
    {
     "data": {
      "text/plain": [
       "((99982,), (99982, 8))"
      ]
     },
     "execution_count": 34,
     "metadata": {},
     "output_type": "execute_result"
    }
   ],
   "source": [
    "y.shape, df_transformed.shape"
   ]
  },
  {
   "cell_type": "code",
   "execution_count": 198,
   "id": "9492174a-ffea-4769-ab59-4f9ef399a128",
   "metadata": {},
   "outputs": [],
   "source": [
    "#splitting data into train and test\n",
    "X_train,X_test,y_train,y_test = train_test_split(df_transformed, y, test_size=0.20, stratify = y, random_state = 42)\n"
   ]
  },
  {
   "cell_type": "code",
   "execution_count": 119,
   "id": "d6f0f4ae-a8f1-4570-8b59-0c0c3a4de129",
   "metadata": {},
   "outputs": [
    {
     "data": {
      "text/plain": [
       "((79985, 8), (79985,))"
      ]
     },
     "execution_count": 119,
     "metadata": {},
     "output_type": "execute_result"
    }
   ],
   "source": [
    "X_train.shape, y_train.shape"
   ]
  },
  {
   "cell_type": "code",
   "execution_count": 178,
   "id": "07a97695-6d90-40fd-a24b-9339e63e3899",
   "metadata": {},
   "outputs": [
    {
     "data": {
      "text/plain": [
       "{'colsample_bylevel': 0.8,\n",
       " 'colsample_bytree': 0.8,\n",
       " 'gamma': 7.0,\n",
       " 'learning_rate': 0.05,\n",
       " 'max_depth': 3,\n",
       " 'n_estimators': 270,\n",
       " 'scale_pos_weight': 6.0,\n",
       " 'subsample': 0.9}"
      ]
     },
     "execution_count": 178,
     "metadata": {},
     "output_type": "execute_result"
    }
   ],
   "source": [
    "best"
   ]
  },
  {
   "cell_type": "code",
   "execution_count": 192,
   "id": "9a650ac7-fe3d-48a7-9ec0-d197f1ec4605",
   "metadata": {
    "scrolled": true
   },
   "outputs": [
    {
     "name": "stdout",
     "output_type": "stream",
     "text": [
      "CrossValMean:                                                                                                           \n",
      "0.7559190468391329                                                                                                      \n",
      "CrossValMean:                                                                                                           \n",
      "0.7968103326253281                                                                                                      \n",
      "CrossValMean:                                                                                                           \n",
      "0.7282118372019881                                                                                                      \n",
      "CrossValMean:                                                                                                           \n",
      "0.7963558610944654                                                                                                      \n",
      "CrossValMean:                                                                                                           \n",
      "0.7914289495801561                                                                                                      \n",
      "CrossValMean:                                                                                                           \n",
      "0.7779763327873209                                                                                                      \n",
      "CrossValMean:                                                                                                           \n",
      "0.7508788255522816                                                                                                      \n",
      "CrossValMean:                                                                                                           \n",
      "0.796958654666074                                                                                                       \n",
      "CrossValMean:                                                                                                           \n",
      "0.7769284021186721                                                                                                      \n",
      "CrossValMean:                                                                                                           \n",
      "0.7302347987489511                                                                                                      \n",
      "CrossValMean:                                                                                                           \n",
      "0.7474292477099016                                                                                                      \n",
      "CrossValMean:                                                                                                           \n",
      "0.7948029541962418                                                                                                      \n",
      "CrossValMean:                                                                                                           \n",
      "0.7769609217700582                                                                                                      \n",
      "CrossValMean:                                                                                                           \n",
      "0.7258928220605815                                                                                                      \n",
      "CrossValMean:                                                                                                           \n",
      "0.7924679366675608                                                                                                      \n",
      "CrossValMean:                                                                                                           \n",
      "0.7900102246071696                                                                                                      \n",
      "CrossValMean:                                                                                                           \n",
      "0.7791934698674984                                                                                                      \n",
      "CrossValMean:                                                                                                           \n",
      "0.7958095148556882                                                                                                      \n",
      "CrossValMean:                                                                                                           \n",
      "0.7970585048952372                                                                                                      \n",
      "CrossValMean:                                                                                                           \n",
      "0.7850498930141487                                                                                                      \n",
      "CrossValMean:                                                                                                           \n",
      "0.7833407538260808                                                                                                      \n",
      "CrossValMean:                                                                                                           \n",
      "0.7871239084737228                                                                                                      \n",
      "CrossValMean:                                                                                                           \n",
      "0.7886583127398862                                                                                                      \n",
      "CrossValMean:                                                                                                           \n",
      "0.7893891251855839                                                                                                      \n",
      "CrossValMean:                                                                                                           \n",
      "0.7949472422530344                                                                                                      \n",
      "CrossValMean:                                                                                                           \n",
      "0.7601725615204333                                                                                                      \n",
      "CrossValMean:                                                                                                           \n",
      "0.7948770078014398                                                                                                      \n",
      "CrossValMean:                                                                                                           \n",
      "0.7899542543919863                                                                                                      \n",
      "CrossValMean:                                                                                                           \n",
      "0.7860132930899799                                                                                                      \n",
      "CrossValMean:                                                                                                           \n",
      "0.793142535931471                                                                                                       \n",
      "CrossValMean:                                                                                                           \n",
      "0.7925413290047437                                                                                                      \n",
      "CrossValMean:                                                                                                           \n",
      "0.7839731594064427                                                                                                      \n",
      "CrossValMean:                                                                                                           \n",
      "0.779036913457526                                                                                                       \n",
      "CrossValMean:                                                                                                           \n",
      "0.7956083922255593                                                                                                      \n",
      "CrossValMean:                                                                                                           \n",
      "0.7742500352612238                                                                                                      \n",
      "CrossValMean:                                                                                                           \n",
      "0.7904065761531637                                                                                                      \n",
      "CrossValMean:                                                                                                           \n",
      "0.7951825024755234                                                                                                      \n",
      "CrossValMean:                                                                                                           \n",
      "0.789275106624041                                                                                                       \n",
      "CrossValMean:                                                                                                           \n",
      "0.7943331388720926                                                                                                      \n",
      "CrossValMean:                                                                                                           \n",
      "0.796553974145269                                                                                                       \n",
      "CrossValMean:                                                                                                           \n",
      "0.7697941756052189                                                                                                      \n",
      "CrossValMean:                                                                                                           \n",
      "0.7937372944156532                                                                                                      \n",
      "CrossValMean:                                                                                                           \n",
      "0.7948984427872705                                                                                                      \n",
      "CrossValMean:                                                                                                           \n",
      "0.7931599726852693                                                                                                      \n",
      "CrossValMean:                                                                                                           \n",
      "0.7556147099873198                                                                                                      \n",
      "CrossValMean:                                                                                                           \n",
      "0.7918060697939253                                                                                                      \n",
      "CrossValMean:                                                                                                           \n",
      "0.7941995059140801                                                                                                      \n",
      "CrossValMean:                                                                                                           \n",
      "0.7859365304430087                                                                                                      \n",
      "CrossValMean:                                                                                                           \n",
      "0.7949621092480248                                                                                                      \n",
      "CrossValMean:                                                                                                           \n",
      "0.789437460181496                                                                                                       \n",
      "CrossValMean:                                                                                                           \n",
      "0.7930573392799282                                                                                                      \n",
      "CrossValMean:                                                                                                           \n",
      "0.7970587000057014                                                                                                      \n",
      "CrossValMean:                                                                                                           \n",
      "0.7829361712513611                                                                                                      \n",
      "CrossValMean:                                                                                                           \n",
      "0.7296025126499941                                                                                                      \n",
      "CrossValMean:                                                                                                           \n",
      "0.7548389457011961                                                                                                      \n",
      "CrossValMean:                                                                                                           \n",
      "0.7809304001156026                                                                                                      \n",
      "CrossValMean:                                                                                                           \n",
      "0.7677970779051132                                                                                                      \n",
      "CrossValMean:                                                                                                           \n",
      "0.7925665361813773                                                                                                      \n",
      "CrossValMean:                                                                                                           \n",
      "0.7869060811815001                                                                                                      \n",
      "CrossValMean:                                                                                                           \n",
      "0.7935798403485588                                                                                                      \n",
      "CrossValMean:                                                                                                           \n",
      "0.7797811576293477                                                                                                      \n",
      "CrossValMean:                                                                                                           \n",
      "0.7973156965116462                                                                                                      \n",
      "CrossValMean:                                                                                                           \n",
      "0.7807045479332987                                                                                                      \n",
      "CrossValMean:                                                                                                           \n",
      "0.794734780401583                                                                                                       \n",
      "CrossValMean:                                                                                                           \n",
      "0.7900241702593911                                                                                                      \n",
      "CrossValMean:                                                                                                           \n",
      "0.7960022108899111                                                                                                      \n",
      "CrossValMean:                                                                                                           \n",
      "0.7952995890160424                                                                                                      \n",
      "CrossValMean:                                                                                                           \n",
      "0.7954889793753068                                                                                                      \n",
      "CrossValMean:                                                                                                           \n",
      "0.7961166660445611                                                                                                      \n",
      "CrossValMean:                                                                                                           \n",
      "0.790733890393678                                                                                                       \n",
      "CrossValMean:                                                                                                           \n",
      "0.7911601417707618                                                                                                      \n",
      "CrossValMean:                                                                                                           \n",
      "0.7952005127447942                                                                                                      \n",
      "CrossValMean:                                                                                                           \n",
      "0.7901372368388284                                                                                                      \n",
      "CrossValMean:                                                                                                           \n",
      "0.7912335861892652                                                                                                      \n",
      "CrossValMean:                                                                                                           \n",
      "0.792382615701395                                                                                                       \n",
      "CrossValMean:                                                                                                           \n",
      "0.7897420228886088                                                                                                      \n",
      "CrossValMean:                                                                                                           \n",
      "0.7947516621782755                                                                                                      \n",
      "CrossValMean:                                                                                                           \n",
      "0.7926524773216644                                                                                                      \n",
      "CrossValMean:                                                                                                           \n",
      "0.7867905123647987                                                                                                      \n",
      "CrossValMean:                                                                                                           \n",
      "0.7942700306843709                                                                                                      \n",
      "CrossValMean:                                                                                                           \n",
      "0.782348170750631                                                                                                       \n",
      "CrossValMean:                                                                                                           \n",
      "0.7784471045447567                                                                                                      \n",
      "CrossValMean:                                                                                                           \n",
      "0.7912657936195805                                                                                                      \n",
      "CrossValMean:                                                                                                           \n",
      "0.7888980604915096                                                                                                      \n",
      "CrossValMean:                                                                                                           \n",
      "0.7939204333775327                                                                                                      \n",
      "CrossValMean:                                                                                                           \n",
      "0.793205423407428                                                                                                       \n",
      "CrossValMean:                                                                                                           \n",
      "0.7931712858041744                                                                                                      \n",
      "CrossValMean:                                                                                                           \n",
      "0.7935119462851609                                                                                                      \n",
      "CrossValMean:                                                                                                           \n",
      "0.7240317586863751                                                                                                      \n",
      "CrossValMean:                                                                                                           \n",
      "0.7949002639655984                                                                                                      \n",
      "CrossValMean:                                                                                                           \n",
      "0.7967603242053718                                                                                                      \n",
      "CrossValMean:                                                                                                           \n",
      "0.7802042727743032                                                                                                      \n",
      "CrossValMean:                                                                                                           \n",
      "0.7891693452719781                                                                                                      \n",
      "CrossValMean:                                                                                                           \n",
      "0.7925364737271774                                                                                                      \n",
      "CrossValMean:                                                                                                           \n",
      "0.7782193301264684                                                                                                      \n",
      "CrossValMean:                                                                                                           \n",
      "0.792045520624644                                                                                                       \n",
      "CrossValMean:                                                                                                           \n",
      "0.7935974925473149                                                                                                      \n",
      "CrossValMean:                                                                                                           \n",
      "0.7951054042867896                                                                                                      \n",
      "CrossValMean:                                                                                                           \n",
      "0.7911371870916108                                                                                                      \n",
      "CrossValMean:                                                                                                           \n",
      "0.7770503049567172                                                                                                      \n",
      "100%|██████████████████████████████████████████████| 100/100 [11:00<00:00,  6.61s/trial, best loss: 0.20268430348835376]\n",
      "Best:  {'colsample_bylevel': 0.7000000000000001, 'colsample_bytree': 0.6000000000000001, 'gamma': 5.0, 'learning_rate': 0.12, 'max_depth': 0, 'n_estimators': 88, 'scale_pos_weight': 6.0, 'subsample': 0.6000000000000001}\n"
     ]
    }
   ],
   "source": [
    "space = {\n",
    "    'max_depth' : hp.choice('max_depth', range(3, 8)),\n",
    "    'learning_rate' : hp.quniform('learning_rate', 0.01, 0.3, 0.01),\n",
    "    'n_estimators' : hp.choice('n_estimators', range(150,650)),\n",
    "    'gamma' : hp.quniform('gamma', 2,10, 1),\n",
    "    'subsample' : hp.quniform('subsample', 0.5, 1, 0.1),\n",
    "    'colsample_bytree' : hp.quniform('colsample_bytree', 0.4, 1.0, 0.1),\n",
    "    'colsample_bylevel' : hp.quniform('colsample_bylevel', 0.5, 1.0, 0.1),\n",
    "    'scale_pos_weight' : hp.quniform('scale_pos_weight', 1, 10, 1)   \n",
    "    }\n",
    "\n",
    "def objective(space):\n",
    "    \n",
    "    \n",
    "    warnings.filterwarnings(action='ignore', category=DeprecationWarning)\n",
    "    classifier = xgb.XGBClassifier(n_estimators = space['n_estimators'],\n",
    "                            max_depth = int(space['max_depth']),\n",
    "                            learning_rate = space['learning_rate'],\n",
    "                            gamma = space['gamma'],\n",
    "                            subsample = space['subsample'],\n",
    "                            colsample_bytree = space['colsample_bytree'],\n",
    "                            colsample_bylevel = space['colsample_bylevel'],\n",
    "                            scale_pos_weight = space['scale_pos_weight'], \n",
    "                            use_label_encoder = False,  eval_metric = 'logloss',\n",
    "                            objective='binary:logistic'\n",
    "                            )\n",
    "    \n",
    "    classifier.fit(X_train, y_train)\n",
    "\n",
    "    # Applying k-Fold Cross Validation\n",
    "    f2_scores = cross_val_score(estimator = classifier, X = X_train, y = y_train, cv = StratifiedKFold(n_splits=5, \n",
    "                                                            shuffle=True, random_state= 42), scoring = f2_scorer)\n",
    "    CrossValMean = f2_scores.mean()\n",
    "    print(\"CrossValMean:\", CrossValMean)\n",
    "    \n",
    "\n",
    "    return{'loss':1-CrossValMean, 'status': STATUS_OK }\n",
    "\n",
    "trials = Trials()\n",
    "best = fmin(fn=objective,\n",
    "            space=space,\n",
    "            algo=tpe.suggest,\n",
    "            max_evals= 100,\n",
    "            trials=trials,\n",
    "            verbose=True)\n",
    "\n",
    "print(\"Best: \", best) \n",
    "\n"
   ]
  },
  {
   "cell_type": "code",
   "execution_count": 193,
   "id": "0a739f1d-7262-4f74-83ba-14f98d5a94c6",
   "metadata": {},
   "outputs": [
    {
     "data": {
      "text/plain": [
       "{'colsample_bylevel': 0.7000000000000001,\n",
       " 'colsample_bytree': 0.6000000000000001,\n",
       " 'gamma': 5.0,\n",
       " 'learning_rate': 0.12,\n",
       " 'max_depth': 0,\n",
       " 'n_estimators': 88,\n",
       " 'scale_pos_weight': 6.0,\n",
       " 'subsample': 0.6000000000000001}"
      ]
     },
     "execution_count": 193,
     "metadata": {},
     "output_type": "execute_result"
    }
   ],
   "source": [
    "best"
   ]
  },
  {
   "cell_type": "code",
   "execution_count": 194,
   "id": "e8a65819-1d48-469e-ada3-bc46380a6d6f",
   "metadata": {},
   "outputs": [],
   "source": [
    "clf = xgb.XGBClassifier(**best)"
   ]
  },
  {
   "cell_type": "code",
   "execution_count": 195,
   "id": "24358c89-f395-4375-bece-0c57161912cb",
   "metadata": {},
   "outputs": [],
   "source": [
    "clf = clf.fit(X_train, y_train)"
   ]
  },
  {
   "cell_type": "code",
   "execution_count": 199,
   "id": "4d2fe022-d900-43b5-927e-35ad08498926",
   "metadata": {
    "scrolled": true
   },
   "outputs": [],
   "source": [
    "test_probs = clf.predict_proba(X_test)[:,1]"
   ]
  },
  {
   "cell_type": "code",
   "execution_count": 134,
   "id": "5026c059-fa97-48d0-a65b-d75a88807ceb",
   "metadata": {},
   "outputs": [],
   "source": [
    "#helper func\n",
    "For a confusion matrix in the form:\n",
    "TN   FP\n",
    "FN   TP\n",
    "\n",
    "0 1\n",
    "0 1\n",
    " \n",
    "The flattened array would be [TN, FP, FN, TP]. The order is typically row-wise.\n",
    "\n",
    "def get_scores(y_true, y_pred_probs, thresh = 0.5):\n",
    "    y_pred = [1 if i > thresh else 0 for i in y_pred_probs]\n",
    "    mcc_score = matthews_corrcoef(y_true, y_pred)\n",
    "    fscore = f1_score(y_true, y_pred, average='binary')\n",
    "    logloss = log_loss(y_true, y_pred_probs)\n",
    "    acc = accuracy_score(y_true, y_pred)\n",
    "    f2 = fbeta_score(y_true, y_pred, beta=2.0, average='binary')\n",
    "    print(f\"The accuracy is {round(acc*100, 3)}%\")\n",
    "    print(f\"The MCC Score is {mcc_score} \")\n",
    "    print(f\"The F1 Score is {fscore}\")\n",
    "    print(f\"The F2 Score is {f2}\")\n",
    "    print(f\"The Logloss is {logloss}\")\n",
    "    print(\"-\"*50)\n",
    "    cm = confusion_matrix(y_true, y_pred)\n",
    "    tn, fp, fn, tp = cm.ravel()\n",
    "    fpr = round(fp/(fp+tn),5)\n",
    "    fnr = round((fn/(fn+tp)), 5)\n",
    "    print(cm)\n",
    "    print(\"-\"*50)\n",
    "    print(f\"The FPR is {fpr*100}%\")\n",
    "    print(f\"The FNR is {fnr*100}%\")\n",
    "    print(\"-\"*50)"
   ]
  },
  {
   "cell_type": "code",
   "execution_count": 155,
   "id": "1eb40132-223a-4376-b7e8-d270823a1a9d",
   "metadata": {},
   "outputs": [
    {
     "data": {
      "text/plain": [
       "diabetes\n",
       "0    18297\n",
       "1     1700\n",
       "Name: count, dtype: int64"
      ]
     },
     "execution_count": 155,
     "metadata": {},
     "output_type": "execute_result"
    }
   ],
   "source": [
    "y_test.value_counts()"
   ]
  },
  {
   "cell_type": "code",
   "execution_count": 137,
   "id": "e060e78b-7e82-42f7-9053-16081e560f43",
   "metadata": {},
   "outputs": [
    {
     "data": {
      "text/plain": [
       "0.31411764705882356"
      ]
     },
     "execution_count": 137,
     "metadata": {},
     "output_type": "execute_result"
    }
   ],
   "source": [
    "534/(534+1166) #fnr"
   ]
  },
  {
   "cell_type": "code",
   "execution_count": 136,
   "id": "4b9b5f21-595f-46bb-865e-16560de847fd",
   "metadata": {},
   "outputs": [
    {
     "data": {
      "text/plain": [
       "0.0016396130513198885"
      ]
     },
     "execution_count": 136,
     "metadata": {},
     "output_type": "execute_result"
    }
   ],
   "source": [
    "30/(30+18267), 17, 3"
   ]
  },
  {
   "cell_type": "code",
   "execution_count": 200,
   "id": "7109e9c5-e60f-42b0-9514-49a614667109",
   "metadata": {},
   "outputs": [
    {
     "name": "stdout",
     "output_type": "stream",
     "text": [
      "The accuracy is 94.554%\n",
      "The MCC Score is 0.706615322345647 \n",
      "The F1 Score is 0.7267252195734003\n",
      "The F2 Score is 0.7969179966978536\n",
      "The Logloss is 0.1268326393661087\n",
      "--------------------------------------------------\n",
      "[[17460   837]\n",
      " [  252  1448]]\n",
      "--------------------------------------------------\n",
      "The FPR is 4.575%\n",
      "The FNR is 14.824000000000002%\n",
      "--------------------------------------------------\n"
     ]
    }
   ],
   "source": [
    "get_scores(y_test, test_probs,)"
   ]
  },
  {
   "cell_type": "markdown",
   "id": "b1e87ae6-464c-4f3f-af6e-0a1d13bb792d",
   "metadata": {},
   "source": [
    "## Feature Importance"
   ]
  },
  {
   "cell_type": "code",
   "execution_count": 180,
   "id": "eb44474e-5e9f-45e2-a2e6-9a50a5d9f3c2",
   "metadata": {},
   "outputs": [
    {
     "data": {
      "text/plain": [
       "{'cat__gender': 59.68582534790039,\n",
       " 'cat__smoking_history': 134.15042114257812,\n",
       " 'bin__heart_disease': 148.12203979492188,\n",
       " 'num__bmi': 358.6475524902344,\n",
       " 'bin__hypertension': 523.492431640625,\n",
       " 'num__age': 730.0828247070312,\n",
       " 'num__blood_glucose_level': 963.8945922851562,\n",
       " 'num__HbA1c_level': 1575.030029296875}"
      ]
     },
     "execution_count": 180,
     "metadata": {},
     "output_type": "execute_result"
    }
   ],
   "source": [
    "importances = clf.get_booster().get_score(importance_type=\"gain\")\n",
    "{k: v for k, v in sorted(importances.items(), key=lambda item: item[1])}"
   ]
  },
  {
   "cell_type": "code",
   "execution_count": 183,
   "id": "bc9313e2-e9b8-4715-8fe5-468c1b20e4d1",
   "metadata": {},
   "outputs": [
    {
     "data": {
      "image/png": "[encoded data removed]",
      "text/plain": [
       "<Figure size 640x480 with 1 Axes>"
      ]
     },
     "metadata": {},
     "output_type": "display_data"
    }
   ],
   "source": [
    "fi = pd.DataFrame(data = clf.feature_importances_,\n",
    "             index=clf.feature_names_in_,\n",
    "             columns=['importance'])\n",
    "fi.sort_values('importance').plot(kind='barh', title='Feature Importance')\n",
    "plt.show()"
   ]
  },
  {
   "cell_type": "markdown",
   "id": "05510fed-c3d3-4d63-8f00-a51443381a71",
   "metadata": {},
   "source": [
    "### finding optimal threshold"
   ]
  },
  {
   "cell_type": "code",
   "execution_count": 185,
   "id": "17042b38-7002-44aa-bec7-20b38f9178db",
   "metadata": {},
   "outputs": [],
   "source": [
    "fpr, tpr, threshold = roc_curve(y_test, test_probs)"
   ]
  },
  {
   "cell_type": "code",
   "execution_count": 186,
   "id": "e12c3432-5c23-4d8a-9a27-862cb94dd185",
   "metadata": {},
   "outputs": [
    {
     "data": {
      "image/png": "[encoded data removed]",
      "text/plain": [
       "<Figure size 640x480 with 1 Axes>"
      ]
     },
     "metadata": {},
     "output_type": "display_data"
    }
   ],
   "source": [
    "fpr, tpr, threshold = roc_curve(y_test, test_probs)\n",
    "plt.plot(threshold, 1-fpr, label = \"TNR\")\n",
    "plt.plot(threshold, tpr, label = \"TPR\")\n",
    "plt.xlabel('Threshold')\n",
    "# Set the y axis label of the current axis.\n",
    "plt.ylabel('TPR')\n",
    "plt.title('TPR and TNR')\n",
    "# show a legend on the plot\n",
    "plt.legend()\n",
    "plt.xlim([0,1])\n",
    "# Display a figure.\n",
    "plt.show()"
   ]
  },
  {
   "cell_type": "code",
   "execution_count": 205,
   "id": "3f956e7e-1e94-4ebf-b2f3-8b769faf719b",
   "metadata": {},
   "outputs": [
    {
     "name": "stdout",
     "output_type": "stream",
     "text": [
      "The accuracy is 92.399%\n",
      "The MCC Score is 0.6534807312295461 \n",
      "The F1 Score is 0.6663740122914837\n",
      "The F2 Score is 0.786039768019884\n",
      "The Logloss is 0.1268326393661087\n",
      "--------------------------------------------------\n",
      "[[16959  1338]\n",
      " [  182  1518]]\n",
      "--------------------------------------------------\n",
      "The FPR is 7.313%\n",
      "The FNR is 10.706%\n",
      "--------------------------------------------------\n"
     ]
    }
   ],
   "source": [
    "get_scores(y_test, test_probs, 0.4)"
   ]
  },
  {
   "cell_type": "code",
   "execution_count": 204,
   "id": "f5bbdf37-f13d-4ab6-8182-58c988c73d3b",
   "metadata": {},
   "outputs": [
    {
     "name": "stdout",
     "output_type": "stream",
     "text": [
      "The accuracy is 90.979%\n",
      "The MCC Score is 0.6274858348728474 \n",
      "The F1 Score is 0.6339285714285714\n",
      "The F2 Score is 0.7788193059433586\n",
      "The Logloss is 0.1268326393661087\n",
      "--------------------------------------------------\n",
      "[[16631  1666]\n",
      " [  138  1562]]\n",
      "--------------------------------------------------\n",
      "The FPR is 9.105%\n",
      "The FNR is 8.118%\n",
      "--------------------------------------------------\n"
     ]
    }
   ],
   "source": [
    "get_scores(y_test, test_probs, 0.35)"
   ]
  },
  {
   "cell_type": "code",
   "execution_count": 189,
   "id": "dd83964a-4ed7-4083-ad37-598f4762c0dc",
   "metadata": {},
   "outputs": [
    {
     "data": {
      "text/plain": [
       "(19997, 8)"
      ]
     },
     "execution_count": 189,
     "metadata": {},
     "output_type": "execute_result"
    }
   ],
   "source": [
    "X_test.shape"
   ]
  },
  {
   "cell_type": "code",
   "execution_count": 190,
   "id": "f3dfd87b-bdf6-4203-83f9-a2a0656ce2e0",
   "metadata": {},
   "outputs": [],
   "source": [
    "X_test['test_probs'] = test_probs"
   ]
  },
  {
   "cell_type": "code",
   "execution_count": 191,
   "id": "95d6e329-b21f-4ccd-8372-d3eeeec193b7",
   "metadata": {},
   "outputs": [
    {
     "data": {
      "text/plain": [
       "<seaborn.axisgrid.FacetGrid at 0x1437aff50>"
      ]
     },
     "execution_count": 191,
     "metadata": {},
     "output_type": "execute_result"
    },
    {
     "data": {
      "image/png": "[encoded data removed]",
      "text/plain": [
       "<Figure size 570.986x500 with 1 Axes>"
      ]
     },
     "metadata": {},
     "output_type": "display_data"
    }
   ],
   "source": [
    "sns.displot(x = X_test['test_probs'], rug=True, hue = y_test, kind = 'kde')"
   ]
  },
  {
   "cell_type": "code",
   "execution_count": null,
   "id": "10cc2bb8-e8bb-4948-ba83-64db274b0746",
   "metadata": {},
   "outputs": [],
   "source": []
  },
  {
   "cell_type": "code",
   "execution_count": null,
   "id": "95a9604c-36c2-4482-80eb-a80e9a3542bb",
   "metadata": {},
   "outputs": [],
   "source": []
  },
  {
   "cell_type": "code",
   "execution_count": null,
   "id": "e7751368-ab41-44e3-b908-041c50243c7a",
   "metadata": {},
   "outputs": [],
   "source": []
  }
 ],
 "metadata": {
  "kernelspec": {
   "display_name": "elf_env",
   "language": "python",
   "name": "elf_env"
  },
  "language_info": {
   "codemirror_mode": {
    "name": "ipython",
    "version": 3
   },
   "file_extension": ".py",
   "mimetype": "text/x-python",
   "name": "python",
   "nbconvert_exporter": "python",
   "pygments_lexer": "ipython3",
   "version": "3.11.7"
  }
 },
 "nbformat": 4,
 "nbformat_minor": 5
}
